{
  "metadata": {
    "kernelspec": {
      "name": "python",
      "display_name": "Python (Pyodide)",
      "language": "python"
    },
    "language_info": {
      "codemirror_mode": {
        "name": "python",
        "version": 3
      },
      "file_extension": ".py",
      "mimetype": "text/x-python",
      "name": "python",
      "nbconvert_exporter": "python",
      "pygments_lexer": "ipython3",
      "version": "3.8"
    }
  },
  "nbformat_minor": 4,
  "nbformat": 4,
  "cells": [
    {
      "cell_type": "markdown",
      "source": "# Final Project: Introduction to Data Science with Python",
      "metadata": {}
    },
    {
      "cell_type": "markdown",
      "source": "## Introduction\n\nThis notebook serves as a basic introduction to Data Science concepts using Python. It covers key programming tools, libraries, and arithmetic operations essential for beginners in the field.",
      "metadata": {}
    },
    {
      "cell_type": "markdown",
      "source": "## Data Science Languages\n\nHere are some popular programming languagesused in data science:\n\n- Python\n- R\n- SQL\n- Julia\n- Scala",
      "metadata": {}
    },
    {
      "cell_type": "markdown",
      "source": "## Data Science Libraries\n\nSome of the most commonly used libraries in data science are:\n\n- NumPy\n- Pandas\n- Matplotlib\n- Seaborn\n- Scikit-learn\n- TensorFlow\n- PyTorch",
      "metadata": {}
    },
    {
      "cell_type": "markdown",
      "source": "## Data Science Tools\n\n| Tool Name    | Purpose                      |\n|--------------|------------------------------|\n| Jupyter      | Interactive coding notebook  |\n| RStudio      | IDE for R                    |\n| Apache Spark | Big data processing          |\n| Tableau      | Data visualization           |\n| VS Code      | Source code editor           |",
      "metadata": {}
    },
    {
      "cell_type": "markdown",
      "source": "## Arithmetic Expressions in Python \n\nPython supports all basic arithmetic operations including addition ('+'), subtraction ('-'), multiplication ('*'), division ('/'), and exponentiation ('**'). Below are examples to demonstrate these.",
      "metadata": {}
    },
    {
      "cell_type": "code",
      "source": "# Arithmetic Operation\n\na = 10\nb = 5\n\nproduct = a*b\nsum_result = a+b\ndifference = a-b\ndiv = a/b\nexp = a**b\n\nprint(\"Product:\",product)\nprint(\"Sum:\",sum_result)\nprint(\"Difference:\",difference)\nprint(\"Division:\",div)\nprint(\"Exponential:\",exp)",
      "metadata": {
        "trusted": true
      },
      "outputs": [
        {
          "name": "stdout",
          "text": "Product: 50\nSum: 15\nDifference: 5\nDivision: 2.0\nExponential: 100000\n",
          "output_type": "stream"
        }
      ],
      "execution_count": 6
    },
    {
      "cell_type": "code",
      "source": "# Converting minutes to hours\n\nminutes = 150\nhours = minutes/60\n\nprint(f\"{minutes} minutes is equal to {hours} hours.\")",
      "metadata": {
        "trusted": true
      },
      "outputs": [
        {
          "name": "stdout",
          "text": "150 minutes is equal to 2.5 hours.\n",
          "output_type": "stream"
        }
      ],
      "execution_count": 7
    },
    {
      "cell_type": "markdown",
      "source": "## Objectives \n\n- Learn basic markdown formatting in Jupyter.\n- Understand how to document code and data science concepts.\n- Practice Python arithmetic expressions.\n- Explore popular tools and libraries in data science.\n- Learn how to share notebooks on GitHub.",
      "metadata": {}
    },
    {
      "cell_type": "markdown",
      "source": "## Author\n\n**Name:** Rounak Manoj Agrahari",
      "metadata": {}
    }
  ]
}